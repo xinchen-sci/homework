{
 "cells": [
  {
   "cell_type": "code",
   "execution_count": 7,
   "metadata": {},
   "outputs": [
    {
     "name": "stdout",
     "output_type": "stream",
     "text": [
      "23 46 23\n"
     ]
    }
   ],
   "source": [
    "# 1\n",
    "\n",
    "a = int(input())\n",
    "b = int(input())\n",
    "\n",
    "i = 1\n",
    "result = 0\n",
    "while(i <= a and i <= b):\n",
    "\n",
    "    if(a % i == 0 and b % i == 0):\n",
    "        result = i\n",
    "    i += 1\n",
    "\n",
    "print(a,b,result)"
   ]
  },
  {
   "cell_type": "code",
   "execution_count": 8,
   "metadata": {},
   "outputs": [
    {
     "name": "stdout",
     "output_type": "stream",
     "text": [
      "67\n",
      "合格\n"
     ]
    }
   ],
   "source": [
    "#2\n",
    "\n",
    "marks = int(input())\n",
    "print(marks)\n",
    "if(marks < 60):\n",
    "    print(\"不合格\")\n",
    "elif(marks >= 60 and marks < 75):\n",
    "    print(\"合格\")\n",
    "elif(marks >= 75 and marks < 90):\n",
    "    print(\"良好\")\n",
    "else:\n",
    "    print(\"优秀\")"
   ]
  },
  {
   "cell_type": "code",
   "execution_count": 22,
   "metadata": {},
   "outputs": [
    {
     "name": "stdout",
     "output_type": "stream",
     "text": [
      "14\n",
      "1110"
     ]
    }
   ],
   "source": [
    "#3\n",
    "\n",
    "\n"
   ]
  },
  {
   "cell_type": "code",
   "execution_count": 25,
   "metadata": {},
   "outputs": [
    {
     "name": "stdout",
     "output_type": "stream",
     "text": [
      "13.433733956325447   17.205165960844205\n"
     ]
    }
   ],
   "source": [
    "#4\n",
    "\n",
    "import random\n",
    "a = random.uniform(10,20)\n",
    "b = random.uniform(10,20)\n",
    "print(a,\" \",b)"
   ]
  },
  {
   "cell_type": "code",
   "execution_count": 38,
   "metadata": {},
   "outputs": [
    {
     "name": "stdout",
     "output_type": "stream",
     "text": [
      "123321\n",
      "是回文数\n"
     ]
    }
   ],
   "source": [
    "#5\n",
    "\n",
    "def huiwen(a):\n",
    "    b = []\n",
    "    orig = a\n",
    "    while(a > 0):\n",
    "        b.insert(0,a % 10)\n",
    "        a //= 10\n",
    "        \n",
    "        c =  0\n",
    "\n",
    "        for i in range(0,len(b)):\n",
    "            c += b[i]*(10**i)\n",
    "    if c == orig :\n",
    "        print(\"是回文数\")\n",
    "    else:\n",
    "        print(\"不是回文数\")\n",
    "\n",
    "a = int(input())\n",
    "print(a)\n",
    "huiwen(a)"
   ]
  },
  {
   "cell_type": "code",
   "execution_count": 43,
   "metadata": {},
   "outputs": [
    {
     "name": "stdout",
     "output_type": "stream",
     "text": [
      "15\n",
      "[0, 1, 1, 2, 3, 5, 8, 13, 21, 34, 55, 89, 144, 233, 377]\n"
     ]
    }
   ],
   "source": [
    "#6\n",
    "\n",
    "def f(n):\n",
    "    c = []\n",
    "    c.append(0)\n",
    "    c.append(1)\n",
    "    for i in range(2,n):\n",
    "        c.append(c[i-2] + c[i-1])\n",
    "    print(c)\n",
    "\n",
    "a = int(input())\n",
    "print(a)\n",
    "f(a)\n",
    "\n"
   ]
  },
  {
   "cell_type": "code",
   "execution_count": null,
   "metadata": {},
   "outputs": [],
   "source": []
  }
 ],
 "metadata": {
  "kernelspec": {
   "display_name": "Python 3",
   "language": "python",
   "name": "python3"
  },
  "language_info": {
   "codemirror_mode": {
    "name": "ipython",
    "version": 3
   },
   "file_extension": ".py",
   "mimetype": "text/x-python",
   "name": "python",
   "nbconvert_exporter": "python",
   "pygments_lexer": "ipython3",
   "version": "3.12.6"
  }
 },
 "nbformat": 4,
 "nbformat_minor": 2
}
