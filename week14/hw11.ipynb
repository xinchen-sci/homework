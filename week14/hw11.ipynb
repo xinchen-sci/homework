{
 "cells": [
  {
   "cell_type": "code",
   "execution_count": 3,
   "metadata": {},
   "outputs": [
    {
     "name": "stdout",
     "output_type": "stream",
     "text": [
      "KNN的 F1 值：0.8660130718954249\n",
      "决策树的 F1 值：0.8248772504091653\n",
      "逻辑回归的 F1 值：0.8640776699029126\n",
      "支持向量机的 F1 值：0.8705501618122977\n"
     ]
    }
   ],
   "source": [
    "import pandas as pd\n",
    "from sklearn.model_selection import train_test_split\n",
    "\n",
    "#read the datafile\n",
    "df = pd.read_csv('fraudulent.csv')\n",
    "\n",
    "#1\n",
    "# 提取特征数据和标签数据\n",
    "X = df.drop('y',axis=1)\n",
    "y = df['y']\n",
    "\n",
    "#划分8：2\n",
    "X_train,X_test,y_train,y_test = train_test_split(X,y,test_size=0.1,random_state=1)\n",
    "\n",
    "#2\n",
    "#建立模型\n",
    "from sklearn.impute import SimpleImputer\n",
    "from sklearn.linear_model import LogisticRegression\n",
    "from sklearn.neighbors import KNeighborsClassifier\n",
    "from sklearn.tree import DecisionTreeClassifier\n",
    "from sklearn.svm import SVC\n",
    "from sklearn.metrics import f1_score\n",
    "\n",
    "\n",
    "# 定义模型列表\n",
    "models = [\n",
    "    ('KNN', KNeighborsClassifier()),\n",
    "    ('决策树', DecisionTreeClassifier()),\n",
    "    ('逻辑回归',LogisticRegression()),\n",
    "    ('支持向量机', SVC()),\n",
    "    \n",
    "]\n",
    "\n",
    "# 遍历模型列表\n",
    "for name, model in models:\n",
    "    # 创建 SimpleImputer 实例，使用均值填充策略\n",
    "    imputer = SimpleImputer(strategy='mean')\n",
    "\n",
    "    # 对训练集进行缺失值填充\n",
    "    X_train_imputed = imputer.fit_transform(X_train)\n",
    "\n",
    "    # 对测试集进行缺失值填充\n",
    "    X_test_imputed = imputer.transform(X_test)\n",
    "\n",
    "    # 训练模型\n",
    "    model.fit(X_train_imputed, y_train)\n",
    "\n",
    "    # 预测测试集\n",
    "    y_pred = model.predict(X_test_imputed)\n",
    "\n",
    "    # 计算 F1 值\n",
    "    f1 = f1_score(y_test, y_pred)\n",
    "\n",
    "    # 输出模型名称和 F1 值\n",
    "    print(f'{name}的 F1 值：{f1}')"
   ]
  }
 ],
 "metadata": {
  "kernelspec": {
   "display_name": "Python 3",
   "language": "python",
   "name": "python3"
  },
  "language_info": {
   "codemirror_mode": {
    "name": "ipython",
    "version": 3
   },
   "file_extension": ".py",
   "mimetype": "text/x-python",
   "name": "python",
   "nbconvert_exporter": "python",
   "pygments_lexer": "ipython3",
   "version": "3.12.6"
  }
 },
 "nbformat": 4,
 "nbformat_minor": 2
}
