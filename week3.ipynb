{
 "cells": [
  {
   "cell_type": "code",
   "execution_count": 1,
   "metadata": {},
   "outputs": [
    {
     "name": "stdout",
     "output_type": "stream",
     "text": [
      "★ ★ ★ ★ ★ ★ ★ ★ ★ ★ ★ \n",
      "★ 数 据 科 学 与 工 程 导 论 ★\n",
      "★ ★ ★ ★ ★ ★ ★ ★ ★ ★ ★ "
     ]
    }
   ],
   "source": [
    "#第一题\n",
    "a = '数 据 科 学 与 工 程 导 论'\n",
    "b = chr(0x2605)\n",
    "for i in range(0,22):\n",
    "    print(b,end=' ')\n",
    "    if i==10:\n",
    "        print('\\n',end='')\n",
    "        print(f\"{b} {a} {b}\")\n"
   ]
  },
  {
   "cell_type": "code",
   "execution_count": 2,
   "metadata": {},
   "outputs": [
    {
     "name": "stdout",
     "output_type": "stream",
     "text": [
      "4 5 9\n"
     ]
    }
   ],
   "source": [
    "#第二题\n",
    "x = int(input())\n",
    "y = int(input())\n",
    "z = int(input())\n",
    "a = [x,y,z]\n",
    "a.sort()\n",
    "print(a[0],a[1],a[2])\n",
    "    "
   ]
  },
  {
   "cell_type": "code",
   "execution_count": 3,
   "metadata": {},
   "outputs": [
    {
     "name": "stdout",
     "output_type": "stream",
     "text": [
      "8 6 4 0 "
     ]
    }
   ],
   "source": [
    "#第三题\n",
    "d = int(input())\n",
    "b = int(input())\n",
    "a = int(input())\n",
    "c = int(input())\n",
    "w = [a,b,c,d]\n",
    "w.sort(reverse=True)\n",
    "for i in range(0,len(w)):\n",
    "    print(w[i],end=' ')"
   ]
  },
  {
   "cell_type": "code",
   "execution_count": 1,
   "metadata": {},
   "outputs": [
    {
     "name": "stdout",
     "output_type": "stream",
     "text": [
      "1 3 5 7 9 11 13 15 17 19 21 23 25 27 29 31 33 35 37 39 41 43 45 47 49 51 53 55 57 59 61 63 65 67 69 71 73 75 77 79 81 83 85 87 89 91 93 95 97 99 "
     ]
    }
   ],
   "source": [
    "#第四题\n",
    "for i in range(1,101,2):\n",
    "    print(i,end=' ')"
   ]
  },
  {
   "cell_type": "code",
   "execution_count": 4,
   "metadata": {},
   "outputs": [
    {
     "name": "stdout",
     "output_type": "stream",
     "text": [
      "5050\n"
     ]
    }
   ],
   "source": [
    "#第五题\n",
    "s= 0 \n",
    "for i in range(1,101):\n",
    "    s += i\n",
    "print(s)"
   ]
  },
  {
   "cell_type": "code",
   "execution_count": 5,
   "metadata": {},
   "outputs": [
    {
     "name": "stdout",
     "output_type": "stream",
     "text": [
      "[56, 34, 4, 7, 6]\n",
      "[56, 34, 4, 7, 6]\n",
      "[56, 34, 4, 7, 6]\n"
     ]
    }
   ],
   "source": [
    "#第六题\n",
    "a = int(input())\n",
    "w = []\n",
    "for i in range(0,a):\n",
    "    w.append (int(input()))\n",
    "\n",
    "#第一种\n",
    "w.reverse()\n",
    "print(w)\n",
    "\n",
    "w.reverse()\n",
    "#第二种for\n",
    "c=[]\n",
    "for i in range(0,a):\n",
    "    c.append(w[a-i-1])\n",
    "print(c)\n",
    "\n",
    "#第三种while\n",
    "i = 0\n",
    "b=[]\n",
    "while i<a :\n",
    "    b.append(w[a-i-1])\n",
    "    i+=1\n",
    "print(b)"
   ]
  },
  {
   "cell_type": "code",
   "execution_count": 7,
   "metadata": {},
   "outputs": [
    {
     "name": "stdout",
     "output_type": "stream",
     "text": [
      "sdsdfgfgfgdddf\n",
      "包含\n"
     ]
    }
   ],
   "source": [
    "#第七题\n",
    "s = input(\"输入一个字符串：\")\n",
    "print(s)\n",
    "s=list(s)\n",
    "i=0\n",
    "k = 0\n",
    "while i < len(s) - 1:\n",
    "    \n",
    "    if s[i] == s[i+1]:\n",
    "        print(\"包含\")\n",
    "        k = 1\n",
    "        break\n",
    "    i+=1    \n",
    "if k == 0:\n",
    "    print(\"不包含\")\n",
    "\n",
    "#print(s)\n"
   ]
  },
  {
   "cell_type": "code",
   "execution_count": 9,
   "metadata": {},
   "outputs": [
    {
     "name": "stdout",
     "output_type": "stream",
     "text": [
      "Data Science and Engneering\n",
      "DataScienceandEngneering"
     ]
    }
   ],
   "source": [
    "#第八题\n",
    "S = input()\n",
    "print(S)\n",
    "S = S.split(' ')\n",
    "for i in range(0,len(S)):\n",
    "    print(S[i],end='')"
   ]
  },
  {
   "cell_type": "code",
   "execution_count": 12,
   "metadata": {},
   "outputs": [
    {
     "name": "stdout",
     "output_type": "stream",
     "text": [
      "125.0\n",
      "5.000000000001684\n",
      "保留三位小数：5.000\n"
     ]
    }
   ],
   "source": [
    "#第九题\n",
    "#x^3 = a的形式\n",
    "a = float(input())\n",
    "print(a)\n",
    "l = 0.001\n",
    "k = a/l\n",
    "x = 0.1\n",
    "while x**3/l < k :\n",
    "    x += 0.0001\n",
    "    \n",
    "print(x)\n",
    "print('保留三位小数：%.3f'%x)"
   ]
  },
  {
   "cell_type": "code",
   "execution_count": 14,
   "metadata": {},
   "outputs": [
    {
     "name": "stdout",
     "output_type": "stream",
     "text": [
      "5\n",
      "120\n"
     ]
    }
   ],
   "source": [
    "#第十题\n",
    "f = 1\n",
    "\n",
    "a = int(input())\n",
    "print(a)\n",
    "if a == 1 or a == 0:\n",
    "    print(1)\n",
    "    exit()\n",
    "\n",
    "while a>1 :\n",
    "    f = f*a\n",
    "    a-=1\n",
    "print(f)\n"
   ]
  }
 ],
 "metadata": {
  "kernelspec": {
   "display_name": "Python 3",
   "language": "python",
   "name": "python3"
  },
  "language_info": {
   "codemirror_mode": {
    "name": "ipython",
    "version": 3
   },
   "file_extension": ".py",
   "mimetype": "text/x-python",
   "name": "python",
   "nbconvert_exporter": "python",
   "pygments_lexer": "ipython3",
   "version": "3.12.6"
  }
 },
 "nbformat": 4,
 "nbformat_minor": 2
}
