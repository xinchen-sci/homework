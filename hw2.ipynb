{
 "cells": [
  {
   "cell_type": "code",
   "execution_count": 7,
   "metadata": {},
   "outputs": [
    {
     "name": "stdout",
     "output_type": "stream",
     "text": [
      "23 46 23\n"
     ]
    }
   ],
   "source": [
    "# 1\n",
    "\n",
    "a = int(input())\n",
    "b = int(input())\n",
    "\n",
    "i = 1\n",
    "result = 0\n",
    "while(i <= a and i <= b):\n",
    "\n",
    "    if(a % i == 0 and b % i == 0):\n",
    "        result = i\n",
    "    i += 1\n",
    "\n",
    "print(a,b,result)"
   ]
  },
  {
   "cell_type": "code",
   "execution_count": 8,
   "metadata": {},
   "outputs": [
    {
     "name": "stdout",
     "output_type": "stream",
     "text": [
      "67\n",
      "合格\n"
     ]
    }
   ],
   "source": [
    "#2\n",
    "\n",
    "marks = int(input())\n",
    "print(marks)\n",
    "if(marks < 60):\n",
    "    print(\"不合格\")\n",
    "elif(marks >= 60 and marks < 75):\n",
    "    print(\"合格\")\n",
    "elif(marks >= 75 and marks < 90):\n",
    "    print(\"良好\")\n",
    "else:\n",
    "    print(\"优秀\")"
   ]
  },
  {
   "cell_type": "code",
   "execution_count": 8,
   "metadata": {},
   "outputs": [
    {
     "name": "stdout",
     "output_type": "stream",
     "text": [
      "0.101\n"
     ]
    }
   ],
   "source": [
    "#3\n",
    "\n",
    "def decimal_to_binary_fraction(decimal):\n",
    "    binary = \"0.\"\n",
    "    while decimal > 0:\n",
    "        if len(binary) > 32:\n",
    "            return \"Error: Cannot be accurately represented within 32 bits.\"\n",
    "        decimal *= 2\n",
    "        if decimal >= 1:\n",
    "            binary += \"1\"\n",
    "            decimal -= 1\n",
    "        else:\n",
    "            binary += \"0\"\n",
    "    return binary\n",
    "\n",
    "decimal_number = 0.625\n",
    "print(decimal_to_binary_fraction(decimal_number))\n"
   ]
  },
  {
   "cell_type": "code",
   "execution_count": 25,
   "metadata": {},
   "outputs": [
    {
     "name": "stdout",
     "output_type": "stream",
     "text": [
      "13.433733956325447   17.205165960844205\n"
     ]
    }
   ],
   "source": [
    "#4\n",
    "\n",
    "import random\n",
    "a = random.uniform(10,20)\n",
    "b = random.uniform(10,20)\n",
    "print(a,\" \",b)"
   ]
  },
  {
   "cell_type": "code",
   "execution_count": 38,
   "metadata": {},
   "outputs": [
    {
     "name": "stdout",
     "output_type": "stream",
     "text": [
      "123321\n",
      "是回文数\n"
     ]
    }
   ],
   "source": [
    "#5\n",
    "\n",
    "def huiwen(a):\n",
    "    b = []\n",
    "    orig = a\n",
    "    while(a > 0):\n",
    "        b.insert(0,a % 10)\n",
    "        a //= 10\n",
    "        \n",
    "        c =  0\n",
    "\n",
    "        for i in range(0,len(b)):\n",
    "            c += b[i]*(10**i)\n",
    "    if c == orig :\n",
    "        print(\"是回文数\")\n",
    "    else:\n",
    "        print(\"不是回文数\")\n",
    "\n",
    "a = int(input())\n",
    "print(a)\n",
    "huiwen(a)"
   ]
  },
  {
   "cell_type": "code",
   "execution_count": 43,
   "metadata": {},
   "outputs": [
    {
     "name": "stdout",
     "output_type": "stream",
     "text": [
      "15\n",
      "[0, 1, 1, 2, 3, 5, 8, 13, 21, 34, 55, 89, 144, 233, 377]\n"
     ]
    }
   ],
   "source": [
    "#6\n",
    "\n",
    "def f(n):\n",
    "    c = []\n",
    "    c.append(0)\n",
    "    c.append(1)\n",
    "    for i in range(2,n):\n",
    "        c.append(c[i-2] + c[i-1])\n",
    "    print(c)\n",
    "\n",
    "a = int(input())\n",
    "print(a)\n",
    "f(a)\n",
    "\n"
   ]
  },
  {
   "cell_type": "code",
   "execution_count": 6,
   "metadata": {},
   "outputs": [
    {
     "name": "stdout",
     "output_type": "stream",
     "text": [
      "3,55,2,32,12,33\n",
      "33\n"
     ]
    }
   ],
   "source": [
    "#7\n",
    "\n",
    "def find_second_largest(arr):\n",
    "    if len(arr) < 2 or not arr:\n",
    "        return -1\n",
    "    largest = second_largest = float('-inf')\n",
    "    for num in arr:\n",
    "        if num > largest:\n",
    "            second_largest = largest\n",
    "            largest = num\n",
    "        elif num > second_largest and num < largest:\n",
    "            second_largest = num\n",
    "    return second_largest\n",
    "\n",
    "\n",
    "a = input()\n",
    "print(a)\n",
    "a = [int(n) for n in a.split(',')]\n",
    "b = find_second_largest(a)\n",
    "print(b)"
   ]
  },
  {
   "cell_type": "code",
   "execution_count": 7,
   "metadata": {},
   "outputs": [
    {
     "name": "stdout",
     "output_type": "stream",
     "text": [
      "350105200503281531\n",
      "True\n"
     ]
    }
   ],
   "source": [
    "#8\n",
    "import re\n",
    "\n",
    "def validate_id_card(id_card):\n",
    "    pattern = r'^[1-9]\\d{5}(19|20)\\d{2}(0[1-9]|1[0-2])(0[1-9]|[1-2]\\d|3[0-1])\\d{3}(\\d|X|x)$'\n",
    "    return bool(re.match(pattern, id_card))\n",
    "\n",
    "a = input()\n",
    "print(a)\n",
    "print(validate_id_card(a))"
   ]
  }
 ],
 "metadata": {
  "kernelspec": {
   "display_name": "Python 3",
   "language": "python",
   "name": "python3"
  },
  "language_info": {
   "codemirror_mode": {
    "name": "ipython",
    "version": 3
   },
   "file_extension": ".py",
   "mimetype": "text/x-python",
   "name": "python",
   "nbconvert_exporter": "python",
   "pygments_lexer": "ipython3",
   "version": "3.12.6"
  }
 },
 "nbformat": 4,
 "nbformat_minor": 2
}
