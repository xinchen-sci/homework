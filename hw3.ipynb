{
 "cells": [
  {
   "cell_type": "code",
   "execution_count": 6,
   "metadata": {},
   "outputs": [
    {
     "name": "stdout",
     "output_type": "stream",
     "text": [
      "15 False\n"
     ]
    }
   ],
   "source": [
    "#1  判断质数\n",
    "\n",
    "def is_zhishu(n):\n",
    "    i = 3\n",
    "    if(n == 1 or n == 2):\n",
    "        return True\n",
    "    while i <= n/2 :\n",
    "        if(n % i == 0):\n",
    "            return False\n",
    "        i += 1\n",
    "    return True\n",
    "n = int(input())\n",
    "print(n,is_zhishu(n))"
   ]
  },
  {
   "cell_type": "code",
   "execution_count": 3,
   "metadata": {},
   "outputs": [
    {
     "name": "stdout",
     "output_type": "stream",
     "text": [
      "3 5 12 67 43 2 56\n",
      "[2, 3, 5, 12, 43, 67, 56]\n"
     ]
    }
   ],
   "source": [
    "#2 插入排序\n",
    "\n",
    "def InsertSort(arr):\n",
    "    for i in range(0,len(arr)-1):\n",
    "        j = i\n",
    "        while j > 0:\n",
    "            if arr[j] < arr[j-1]:\n",
    "                arr[j],arr[j-1] = arr[j-1],arr[j]\n",
    "            j -=1\n",
    "        i+=1\n",
    "    return arr\n",
    "\n",
    "a = input()\n",
    "print(a)\n",
    "a = [int(n) for n in a.split(' ')]\n",
    "a = InsertSort(a)\n",
    "print(a)\n",
    "\n",
    "            "
   ]
  },
  {
   "cell_type": "code",
   "execution_count": 11,
   "metadata": {},
   "outputs": [
    {
     "name": "stdout",
     "output_type": "stream",
     "text": [
      "[1, 2, 3]\n",
      "2 5 8 12 4 33 7 90\n",
      "[2, 4, 5, 7, 8, 12, 33, 90]\n",
      "\n"
     ]
    }
   ],
   "source": [
    "#3 选择排序\n",
    "\n",
    "def selectSort(arr):\n",
    "    \n",
    "    for i in range(0,len(arr)):\n",
    "        min = i\n",
    "        j = i \n",
    "        while j < len(arr)-1:\n",
    "            j+=1\n",
    "            if arr[j] < arr[min]:\n",
    "                min = j\n",
    "            \n",
    "        arr[i],arr[min] = arr[min],arr[i]\n",
    "    return arr\n",
    "        \n",
    "\n",
    "b = [3,2,1]\n",
    "print(selectSort(b))\n",
    "a = input()\n",
    "print(a)\n",
    "a = [int(n) for n in a.split(' ')]\n",
    "a = selectSort(a)\n",
    "print(a)\n"
   ]
  },
  {
   "cell_type": "code",
   "execution_count": 4,
   "metadata": {},
   "outputs": [
    {
     "name": "stdout",
     "output_type": "stream",
     "text": [
      "12 32 3 2 1\n",
      "[1, 2, 3, 12, 32]\n"
     ]
    }
   ],
   "source": [
    "#4 快速排序\n",
    "\n",
    "\n",
    "def partition(arr, left, right):\n",
    "    pivot = arr[right]\n",
    "    i = left - 1\n",
    "    for j in range(left, right):\n",
    "        if arr[j] <= pivot:\n",
    "            i += 1\n",
    "            arr[i], arr[j] = arr[j], arr[i]\n",
    "    arr[i + 1], arr[right] = arr[right], arr[i + 1]\n",
    "    return i + 1\n",
    "\n",
    "\n",
    "def quickSort(arr, left, right):\n",
    "    if left < right:\n",
    "        k = partition(arr, left, right)\n",
    "        quickSort(arr, left, k - 1)\n",
    "        quickSort(arr, k + 1, right)\n",
    "    return arr\n",
    "\n",
    "a = input()\n",
    "print(a)\n",
    "a = [int(n) for n in a.split(' ')]\n",
    "a = quickSort(a, 0, len(a) - 1)\n",
    "print(a)"
   ]
  },
  {
   "cell_type": "code",
   "execution_count": 5,
   "metadata": {},
   "outputs": [
    {
     "name": "stdout",
     "output_type": "stream",
     "text": [
      "选择排序 时间排序: [0.0, 0.03081655502319336, 2.730032205581665]\n",
      "快速排序 时间排序: [0.0, 0.001424551010131836, 0.016641855239868164]\n",
      "插入排序 时间排序: [0.0, 0.033101558685302734, 2.7872276306152344]\n"
     ]
    }
   ],
   "source": [
    "#5随机数排列\n",
    "\n",
    "import random\n",
    "import time\n",
    "\n",
    "# 生成随机数列\n",
    "list_100 = [random.randint(1, 1000) for _ in range(100)]\n",
    "list_1000 = [random.randint(1, 1000) for _ in range(1000)]\n",
    "list_10000 = [random.randint(1, 1000) for _ in range(10000)]\n",
    "\n",
    "# 选择排序\n",
    "def selectSort(arr):\n",
    "    for i in range(0, len(arr)):\n",
    "        min_index = i\n",
    "        for j in range(i + 1, len(arr)):\n",
    "            if arr[j] < arr[min_index]:\n",
    "                min_index = j\n",
    "        arr[i], arr[min_index] = arr[min_index], arr[i]\n",
    "    return arr\n",
    "\n",
    "# 快速排序函数\n",
    "def partition(arr, left, right):\n",
    "    pivot = arr[right]\n",
    "    i = left - 1\n",
    "    for j in range(left, right):\n",
    "        if arr[j] <= pivot:\n",
    "            i += 1\n",
    "            arr[i], arr[j] = arr[j], arr[i]\n",
    "    arr[i + 1], arr[right] = arr[right], arr[i + 1]\n",
    "    return i + 1\n",
    "\n",
    "\n",
    "def quickSort(arr, left, right):\n",
    "    if left < right:\n",
    "        k = partition(arr, left, right)\n",
    "        quickSort(arr, left, k - 1)\n",
    "        quickSort(arr, k + 1, right)\n",
    "    return arr\n",
    "\n",
    "# 插入排序\n",
    "def InsertSort(arr):\n",
    "    for i in range(1, len(arr)):\n",
    "        key = arr[i]\n",
    "        j = i - 1\n",
    "        while j >= 0 and key < arr[j]:\n",
    "            arr[j + 1] = arr[j]\n",
    "            j -= 1\n",
    "        arr[j + 1] = key\n",
    "    return arr\n",
    "\n",
    "# 存储每种算法在不同数据规模下的运行时间\n",
    "times = {\n",
    "    \"选择排序\": [],\n",
    "    \"快速排序\": [],\n",
    "    \"插入排序\": []\n",
    "}\n",
    "\n",
    "# 测试选择排序时间\n",
    "start_time = time.time()\n",
    "selectSort(list_100.copy())\n",
    "end_time = time.time()\n",
    "times[\"选择排序\"].append(end_time - start_time)\n",
    "\n",
    "start_time = time.time()\n",
    "selectSort(list_1000.copy())\n",
    "end_time = time.time()\n",
    "times[\"选择排序\"].append(end_time - start_time)\n",
    "\n",
    "start_time = time.time()\n",
    "selectSort(list_10000.copy())\n",
    "end_time = time.time()\n",
    "times[\"选择排序\"].append(end_time - start_time)\n",
    "\n",
    "# 测试快速排序时间\n",
    "start_time = time.time()\n",
    "quickSort(list_100.copy(), 0, len(list_100) - 1)\n",
    "end_time = time.time()\n",
    "times[\"快速排序\"].append(end_time - start_time)\n",
    "\n",
    "start_time = time.time()\n",
    "quickSort(list_1000.copy(), 0, len(list_1000) - 1)\n",
    "end_time = time.time()\n",
    "times[\"快速排序\"].append(end_time - start_time)\n",
    "\n",
    "start_time = time.time()\n",
    "quickSort(list_10000.copy(), 0, len(list_10000) - 1)\n",
    "end_time = time.time()\n",
    "times[\"快速排序\"].append(end_time - start_time)\n",
    "\n",
    "# 测试插入排序时间\n",
    "start_time = time.time()\n",
    "InsertSort(list_100.copy())\n",
    "end_time = time.time()\n",
    "times[\"插入排序\"].append(end_time - start_time)\n",
    "\n",
    "start_time = time.time()\n",
    "InsertSort(list_1000.copy())\n",
    "end_time = time.time()\n",
    "times[\"插入排序\"].append(end_time - start_time)\n",
    "\n",
    "start_time = time.time()\n",
    "InsertSort(list_10000.copy())\n",
    "end_time = time.time()\n",
    "times[\"插入排序\"].append(end_time - start_time)\n",
    "\n",
    "# 对每种算法的时间进行排序（这里简单地打印排序后的时间列表）\n",
    "for algorithm, algorithm_times in times.items():\n",
    "    sorted_times = sorted(algorithm_times)\n",
    "    print(f\"{algorithm} 时间排序: {sorted_times}\")"
   ]
  },
  {
   "cell_type": "code",
   "execution_count": 6,
   "metadata": {},
   "outputs": [
    {
     "name": "stdout",
     "output_type": "stream",
     "text": [
      "当前时间: 2024-10-29 13:40:57.178600\n",
      "格式化后的当前时间: 2024-10-29 13:40:57\n"
     ]
    }
   ],
   "source": [
    "#6 \n",
    "\n",
    "from datetime import datetime\n",
    "\n",
    "# 获取当前系统时间\n",
    "current_time = datetime.now()\n",
    "print(\"当前时间:\", current_time)\n",
    "\n",
    "# 如果你只想要特定格式的时间字符串，可以使用strftime方法\n",
    "formatted_time = current_time.strftime('%Y-%m-%d %H:%M:%S')\n",
    "print(\"格式化后的当前时间:\", formatted_time)"
   ]
  },
  {
   "cell_type": "code",
   "execution_count": 27,
   "metadata": {},
   "outputs": [
    {
     "name": "stdout",
     "output_type": "stream",
     "text": [
      "chinese 82.60\n",
      "math 81.00\n",
      "english 81.80\n"
     ]
    }
   ],
   "source": [
    "#7\n",
    "\n",
    "import csv\n",
    "\n",
    "data_list = []\n",
    "with open('stuGrade.csv', 'r') as file:\n",
    "    reader = csv.reader(file)\n",
    "    for row in reader:\n",
    "        data_list.append(row)\n",
    "\n",
    "grades=[]\n",
    "for j in range(1, len(data_list[0])):  \n",
    "    column_sum = 0\n",
    "    \n",
    "    for i in range(1, len(data_list)):  \n",
    "        column_sum += int(data_list[i][j])\n",
    "    print(data_list[0][j], \"{:.2f}\".format(column_sum / (len(data_list) - 1)))\n",
    "    grades.append(\"{:.2f}\".format(column_sum / (len(data_list) - 1)))\n",
    "\n",
    "#8\n",
    "\n",
    "import time\n",
    "from datetime import datetime\n",
    "student_info = \"10235501467,陈鑫\"\n",
    "\n",
    "# 获取当前时间\n",
    "current_time = datetime.now().strftime('%Y-%m-%d %H:%M:%S')\n",
    "\n",
    "# 打开文件并写入内容\n",
    "with open('my.txt', 'w') as file:\n",
    "    file.write(student_info + '\\n')\n",
    "    for grade in grades:\n",
    "        file.write(grade + ',')\n",
    "    file.write('\\n')\n",
    "    file.write(current_time + '\\n')\n",
    "    time.sleep(2)\n",
    "    file.write(datetime.now().strftime('%Y-%m-%d %H:%M:%S') + '\\n')"
   ]
  }
 ],
 "metadata": {
  "kernelspec": {
   "display_name": "Python 3",
   "language": "python",
   "name": "python3"
  },
  "language_info": {
   "codemirror_mode": {
    "name": "ipython",
    "version": 3
   },
   "file_extension": ".py",
   "mimetype": "text/x-python",
   "name": "python",
   "nbconvert_exporter": "python",
   "pygments_lexer": "ipython3",
   "version": "3.12.6"
  }
 },
 "nbformat": 4,
 "nbformat_minor": 2
}
