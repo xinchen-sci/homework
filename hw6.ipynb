{
 "cells": [
  {
   "cell_type": "code",
   "execution_count": null,
   "metadata": {},
   "outputs": [
    {
     "name": "stdout",
     "output_type": "stream",
     "text": [
      "200.71 1394.45 344.9610999999999 275.155\n"
     ]
    }
   ],
   "source": [
    "#1\n",
    "import csv\n",
    "data = []\n",
    "with open ('open_rank_20236.csv','r') as file:\n",
    "    reader = csv.reader(file)\n",
    "    for row in reader:\n",
    "        data.append(row)\n",
    "\n",
    "value = []\n",
    "max_val = 0\n",
    "min_val = 100000\n",
    "sum = 0\n",
    "for j in range(0,len(data[0])):\n",
    "    if data[0][j] == 'value':\n",
    "        for i in range(1,100):\n",
    "            data[i][j] =float(data[i][j])\n",
    "            value.append(data[i][j])\n",
    "            \n",
    "            sum += data[i][j]\n",
    "            if data[i][j] >=  max_val:\n",
    "                max_val = data[i][j]\n",
    "            if data[i][j] <= min_val:\n",
    "                min_val = data[i][j]\n",
    "avg_val =sum / 100\n",
    "value.sort()\n",
    "medium_val = (value[49]+value[50])/2\n",
    "print(min_val,max_val,avg_val,medium_val)"
   ]
  },
  {
   "cell_type": "code",
   "execution_count": 12,
   "metadata": {},
   "outputs": [
    {
     "name": "stdout",
     "output_type": "stream",
     "text": [
      "                                     repo  avg_incre\n",
      "7                        microsoft/vscode       0.23\n",
      "8                         pytorch/pytorch       0.13\n",
      "4  firstcontributions/first-contributions       0.04\n",
      "6                     home-assistant/core       0.03\n",
      "1                           NixOS/nixpkgs      -0.03\n",
      "9                          rust-lang/rust      -0.09\n",
      "3                          elastic/kibana      -0.13\n",
      "5                         flutter/flutter      -0.18\n",
      "0                MicrosoftDocs/azure-docs      -0.22\n",
      "2                          dotnet/runtime      -0.26\n"
     ]
    }
   ],
   "source": [
    "#2\n",
    "\n",
    "\n",
    "import pandas as pd\n",
    "\n",
    "# 读取csv文件\n",
    "df = pd.read_csv('activity_2022.csv')\n",
    "\n",
    "\n",
    "# 计算每个项目从第一个月到最后一个月的增长率\n",
    "df['avg_incre'] = ((df['202212_value'] - df['20221_value']) / df['20221_value']).round(2)\n",
    "\n",
    "# 按照增长率降序排序\n",
    "df.sort_values(by='avg_incre', ascending=False, inplace=True)\n",
    "\n",
    "# 打印排序后的结果\n",
    "print(df[['repo', 'avg_incre']])"
   ]
  },
  {
   "cell_type": "code",
   "execution_count": null,
   "metadata": {},
   "outputs": [],
   "source": [
    "#3\n",
    "import pandas as pd\n",
    "df_china = pd.read_csv('china_2022.csv')\n",
    "df_global = pd.read_csv('global_2022.csv')\n"
   ]
  }
 ],
 "metadata": {
  "kernelspec": {
   "display_name": "Python 3",
   "language": "python",
   "name": "python3"
  },
  "language_info": {
   "codemirror_mode": {
    "name": "ipython",
    "version": 3
   },
   "file_extension": ".py",
   "mimetype": "text/x-python",
   "name": "python",
   "nbconvert_exporter": "python",
   "pygments_lexer": "ipython3",
   "version": "3.12.6"
  }
 },
 "nbformat": 4,
 "nbformat_minor": 2
}
